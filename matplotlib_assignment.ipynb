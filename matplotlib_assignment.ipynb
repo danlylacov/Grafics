{
  "cells": [
    {
      "cell_type": "markdown",
      "metadata": {
        "id": "iI8oc6lqAHzz"
      },
      "source": [
        "# Основы машинного обучения: лабораторная работа №1\n",
        "## Задание 2. Знакомство с Matplotlib и LaTeX\n",
        "\n",
        "В этом задании по номеру варианта задана параметризованная математическая функция. Необходимо её оценить и визуализировать на графике с помощью Python.\n",
        "\n",
        "### Цель\n",
        "\n",
        "Научиться выполнять базовые математические операции с помощью `numpy` и визуализировать результаты с помощью `matplotlib`\n",
        "\n",
        "### Оценивание и баллы\n",
        "\n",
        "За это задание в общей сложности можно получить до 2 баллов. Задание частично проверяется автоматически, а частично будет оцениваться вручную. Чтобы получить максимальный балл,  необходимо успешно выполнить приведенные ниже задачи."
      ]
    },
    {
      "cell_type": "markdown",
      "metadata": {
        "id": "WCM753rZAHz0"
      },
      "source": [
        "## Часть 1. Определить номер варианта\n",
        "\n",
        "Начнем с импорта библиотеки `numpy`. Она понадобится позже для выполнения некоторых математических операций. Также потребуется библиотека `matplotlib.pyplot`, чтобы визуализировать результаты вычислений."
      ]
    },
    {
      "cell_type": "code",
      "execution_count": 1,
      "metadata": {
        "id": "kJzMRB1_AHz0"
      },
      "outputs": [],
      "source": [
        "import numpy as np\n",
        "from matplotlib import pyplot as plt"
      ]
    },
    {
      "cell_type": "markdown",
      "metadata": {
        "id": "pzvJoglMAHz1"
      },
      "source": [
        "Перейдите по ссылке из личного кабинета на Google Таблицу со списком студентов. Найдите свое ФИО в списке и запомните соответствующий порядковый номер (поле `№ п/п`) в первом столбце. Заполните его в ячейке ниже и выполните ячейку. Если вы не можете найти себя в списке, обратитесь к преподавателю, принимающему лабораторные работы."
      ]
    },
    {
      "cell_type": "code",
      "execution_count": 3,
      "metadata": {
        "id": "jBaQp5CwAHz1"
      },
      "outputs": [],
      "source": [
        "### BEGIN YOUR CODE\n",
        "\n",
        "Student_ID = 13\n",
        "\n",
        "### END YOUR CODE"
      ]
    },
    {
      "cell_type": "markdown",
      "metadata": {
        "id": "SLDVFFUuAHz1"
      },
      "source": [
        "Теперь выполните следующую ячейку. Она вычислит номер задания и выведет его."
      ]
    },
    {
      "cell_type": "code",
      "execution_count": 4,
      "metadata": {
        "id": "SlOGXcosAHz1",
        "outputId": "c2ad5f76-a9fe-4642-be6b-8fcf3e194833",
        "colab": {
          "base_uri": "https://localhost:8080/"
        }
      },
      "outputs": [
        {
          "output_type": "stream",
          "name": "stdout",
          "text": [
            "Пожалуйста, используйте математическую функцию No 13 ниже.\n"
          ]
        }
      ],
      "source": [
        "task_id = None if Student_ID is None else Student_ID % 25 if Student_ID % 25 > 0 else 25\n",
        "print(f\"Пожалуйста, используйте математическую функцию No {task_id} ниже.\")"
      ]
    },
    {
      "cell_type": "markdown",
      "metadata": {
        "id": "uFNIE2mhAHz2"
      },
      "source": [
        "![mathematical_functions.png](https://github.com/hse-mlwp-2022/assignment2-template/raw/main/mathematical_functions.png)"
      ]
    },
    {
      "cell_type": "markdown",
      "metadata": {
        "id": "KlxA5lSrAHz2"
      },
      "source": [
        "В списке математических функций, представленных выше, $y$, или, более корректно, $y(x)$, является зависимой переменной, полученной в результате вычисления математической функции. $a$, $b$, $c$, $d$ — это скалярные параметры функции, а $x$ — независимая переменная.\n",
        "\n",
        "Теперь, когда функция выбрана, запишите её в ячейке ниже, используя LaTeX, и выполните ячейку, чтобы отобразить её."
      ]
    },
    {
      "cell_type": "markdown",
      "metadata": {
        "id": "7Et50bUaAHz2"
      },
      "source": [
        "$ax^2 + by^2 = c^2$"
      ]
    },
    {
      "cell_type": "markdown",
      "metadata": {
        "id": "Uasy089qAHz2"
      },
      "source": [
        "## Часть 2. Вычисления в Python\n",
        "\n",
        "Напишите функцию на Python, которая вычисляет математическую функцию $y(x)$ с заданными скалярными параметрами $a$, $b$, $c$, $d$ (если применимо) и списком значений независимой переменной $x$. Найти математические функции, доступные в библиотеке `numpy`, можно [здесь](https://numpy.org/doc/stable/reference/routines.math.html).\n",
        "\n",
        "Пример для функции $y(x) = a \\sin^2x + b\\log_cx$ может выглядеть так:\n",
        "```python\n",
        "def my_function(x,a,b,c,d):\n",
        "    return a * np.sin(x) ** 2 + b * np.log(x) / np.log(c)\n",
        "```"
      ]
    },
    {
      "cell_type": "code",
      "execution_count": 13,
      "metadata": {
        "id": "vGAv2WbVAHz2"
      },
      "outputs": [],
      "source": [
        "def my_function(x,a,b,c,d):\n",
        "  ### BEGIN YOUR CODE\n",
        "  return np.sqrt((c**2 - a*x**2)/b)\n",
        "  ### END YOUR CODE"
      ]
    },
    {
      "cell_type": "markdown",
      "metadata": {
        "id": "mBFttYDBAHz2"
      },
      "source": [
        "Задайте значения для параметров $a$, $b$, $c$, $d$ и укажите диапазон для переменной $x$:"
      ]
    },
    {
      "cell_type": "code",
      "execution_count": 7,
      "metadata": {
        "id": "df2a_eXwAHz2"
      },
      "outputs": [],
      "source": [
        "### BEGIN YOUR CODE\n",
        "\n",
        "a = 1\n",
        "b = 1\n",
        "c = 5\n",
        "d = 1\n",
        "x = np.linspace(-5, 5, 200)\n",
        "\n",
        "\n",
        "### END YOUR CODE"
      ]
    },
    {
      "cell_type": "markdown",
      "metadata": {
        "id": "czsZmo4QAHz2"
      },
      "source": [
        "Вычислите значения функции $y(x)$ на интервале `x`. Необходимо сделать это векторно и без использования циклов. Постройте график функции. Измените значения параметров $a$, $b$, $c$, $d$ и $x$ в ячейке выше, чтобы получить аккуратный, понятный и красивый график."
      ]
    },
    {
      "cell_type": "code",
      "execution_count": 14,
      "metadata": {
        "id": "fqlZQafAAHz3",
        "outputId": "c9bd43a6-395f-48e8-b116-da7e037a8d9c",
        "colab": {
          "base_uri": "https://localhost:8080/",
          "height": 579
        }
      },
      "outputs": [
        {
          "output_type": "display_data",
          "data": {
            "text/plain": [
              "<Figure size 1000x600 with 1 Axes>"
            ],
            "image/png": "[encoded data removed]"
          },
          "metadata": {}
        }
      ],
      "source": [
        "### BEGIN YOUR CODE\n",
        "\n",
        "y = my_function(x, a, b, c, d)\n",
        "\n",
        "\n",
        "plt.figure(figsize=(10, 6))\n",
        "plt.plot(x, y, 'crimson', linewidth=2)\n",
        "plt.title(f'График функции $\\\\frac{{{a}x² + {b}y²}}{{{c}²}} = 1$', fontsize=14)\n",
        "plt.xlabel('x', fontsize=12)\n",
        "plt.ylabel('y', fontsize=12)\n",
        "plt.grid(True, alpha=0.3)\n",
        "plt.axhline(0, color='black', linewidth=0.8)\n",
        "plt.axvline(0, color='black', linewidth=0.8)\n",
        "plt.show()\n",
        "\n",
        "### END YOUR CODE"
      ]
    },
    {
      "cell_type": "markdown",
      "metadata": {
        "id": "DC6Pl-mkAHz3"
      },
      "source": [
        "### Кастомизируйте свой график\n",
        "\n",
        "Настройте внешний вид рисунка в ячейке выше. Измените цвет графика функции (например, задайте его красным), обновите стиль линии (например, нарисуйте пунктирную линию или штрих-пунктир), добавьте подписи, метки и так далее. Ознакомьтесь с [документацией](https://matplotlib.org/stable/api/_as_gen/matplotlib.pyplot.plot.html) для получения дополнительных сведений. Попробуйте разместить несколько графиков с разными наборами значений параметров $a$, $b$, $c$, $d$ на одном рисунке, используя `subplot`. Посмотрите примеры из официального [руководства](https://matplotlib.org/stable/tutorials/index.html) для вдохновения."
      ]
    },
    {
      "cell_type": "markdown",
      "metadata": {
        "id": "vVpCSw6GAHz3"
      },
      "source": [
        "## Часть 3. Линейная алгебра в Python\n",
        "\n",
        "Вычислите скалярное произведение двух векторов `vector_a` и `vector_b`, заданных в ячейке с кодом ниже. Результат поместите в переменную `dot_product`."
      ]
    },
    {
      "cell_type": "code",
      "execution_count": 15,
      "metadata": {
        "id": "Jb4SsV8pAHz3",
        "outputId": "be7ace3a-8954-49ef-99a1-38c7d6d139c9",
        "colab": {
          "base_uri": "https://localhost:8080/"
        }
      },
      "outputs": [
        {
          "output_type": "stream",
          "name": "stdout",
          "text": [
            "Вектор A: [[37 62 83 14 43]]\n",
            "Вектор B: [[81]\n",
            " [96]\n",
            " [95]\n",
            " [80]\n",
            " [64]]\n",
            "Cкалярное произведение <A, B>=20706\n"
          ]
        }
      ],
      "source": [
        "rng = np.random.RandomState(Student_ID)\n",
        "vector_a = rng.choice(np.arange(100, dtype=np.int32), size=(1,5), replace=False)\n",
        "vector_b = rng.choice(np.arange(100, dtype=np.int32), size=(5,1), replace=False)\n",
        "\n",
        "### BEGIN YOUR CODE\n",
        "dot_product_matrix = np.dot(vector_a, vector_b)\n",
        "dot_product = dot_product_matrix[0, 0]\n",
        "\n",
        "### END YOUR CODE\n",
        "\n",
        "print(f'Вектор A: {vector_a}\\nВектор B: {vector_b}\\nCкалярное произведение <A, B>={dot_product}')"
      ]
    },
    {
      "cell_type": "markdown",
      "metadata": {
        "id": "ADUod5_BAHz4"
      },
      "source": [
        "### Оценивание работы\n",
        "\n",
        "За заполнение расположенных выше ячеек можно получить:\n",
        "- максимум 0.5 балла за корректно заполненную ячейку с математической функцией, набранной с помощью LaTeX;\n",
        "- максимум 0.5 балла за корректно работающий код во всех ячейках с кодом;\n",
        "- максимум 1 балл за создание графика с внешним видом \"не по умолчанию\"."
      ]
    },
    {
      "cell_type": "code",
      "execution_count": null,
      "metadata": {
        "id": "lZaAN3m6AHz4"
      },
      "outputs": [],
      "source": []
    }
  ],
  "metadata": {
    "kernelspec": {
      "display_name": "Python [conda env:base] *",
      "language": "python",
      "name": "conda-base-py"
    },
    "language_info": {
      "codemirror_mode": {
        "name": "ipython",
        "version": 3
      },
      "file_extension": ".py",
      "mimetype": "text/x-python",
      "name": "python",
      "nbconvert_exporter": "python",
      "pygments_lexer": "ipython3",
      "version": "3.12.7"
    },
    "colab": {
      "provenance": []
    }
  },
  "nbformat": 4,
  "nbformat_minor": 0
}